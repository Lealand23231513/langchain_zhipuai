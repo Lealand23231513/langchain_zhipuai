{
 "cells": [
  {
   "cell_type": "code",
   "execution_count": 5,
   "id": "5e3fb5d7-e3eb-4cb4-9c46-d9a28bf1ff41",
   "metadata": {},
   "outputs": [
    {
     "name": "stdout",
     "output_type": "stream",
     "text": [
      "Using version \u001b[39;1m^1.0.1\u001b[39;22m for \u001b[36mpython-dotenv\u001b[39m\n",
      "\n",
      "\u001b[34mUpdating dependencies\u001b[39m\n",
      "\u001b[2K\u001b[34mResolving dependencies...\u001b[39m \u001b[39;2m(0.3s)\u001b[39;22m\n",
      "\n",
      "No dependencies to install or update\n",
      "\n",
      "\u001b[34mWriting lock file\u001b[39m\n"
     ]
    }
   ],
   "source": [
    "!poetry add python_dotenv --group dev"
   ]
  },
  {
   "cell_type": "code",
   "execution_count": 1,
   "id": "79b6469c-b79c-4944-aeab-1a2892fef595",
   "metadata": {},
   "outputs": [
    {
     "data": {
      "text/plain": [
       "True"
      ]
     },
     "execution_count": 1,
     "metadata": {},
     "output_type": "execute_result"
    }
   ],
   "source": [
    "import os\n",
    "from dotenv import load_dotenv, find_dotenv\n",
    "load_dotenv(find_dotenv(), override=True)"
   ]
  },
  {
   "cell_type": "code",
   "execution_count": 2,
   "id": "208b2798-b0ea-4718-8b03-ae14352b7770",
   "metadata": {},
   "outputs": [],
   "source": [
    "from zhipuai import ZhipuAI"
   ]
  },
  {
   "cell_type": "code",
   "execution_count": 3,
   "id": "ade91e9b-7647-415d-8343-01bd8e81ff50",
   "metadata": {},
   "outputs": [],
   "source": [
    "client = ZhipuAI() "
   ]
  },
  {
   "cell_type": "code",
   "execution_count": 4,
   "id": "ea97347e-84f0-4f44-8ad8-7533371c9d32",
   "metadata": {},
   "outputs": [
    {
     "name": "stdout",
     "output_type": "stream",
     "text": [
      "content='作为一个人工智能助手，我可以帮助您完成许多任务，包括但不限于以下几项：\\n\\n1. **信息查询**：我可以提供关于各种主题的信息，例如科学、数学、历史、文化等。\\n\\n2. **语言翻译**：我可以帮助您翻译不同语言。\\n\\n3. **写作辅助**：我可以帮助您撰写文章、报告、邮件或创意写作。\\n\\n4. **编程帮助**：我可以提供编程相关的建议、解答疑问或帮助调试代码。\\n\\n5. **学习辅导**：我可以辅助学习，提供解释概念、解答问题等服务。\\n\\n6. **娱乐互动**：我可以参与简单的聊天，提供笑话、故事或游戏。\\n\\n7. **日常任务管理**：我可以帮助您设置提醒、管理日程等。\\n\\n8. **图像识别与生成**：一些人工智能助手具备图像识别或生成图片的能力。\\n\\n9. **情感支持**：虽然我不能替代专业的心理咨询，但我可以提供基本的情感支持。\\n\\n10. **数据分析**：我可以帮助您解析数据、生成报告或提供数据分析的见解。\\n\\n请注意，我的能力受限于我所使用的算法和数据集，我可能不完美，但在不断学习和改进中。如果您有任何问题或需要帮助，请随时告诉我。' role='assistant' tool_calls=None\n"
     ]
    }
   ],
   "source": [
    "response = client.chat.completions.create(\n",
    "    model=\"glm-4\",\n",
    "    messages=[\n",
    "        {\"role\": \"user\", \"content\": \"你好\"},\n",
    "        {\"role\": \"assistant\", \"content\": \"我是人工智能助手\"},\n",
    "        {\"role\": \"user\", \"content\": \"你叫什么名字\"},\n",
    "        {\"role\": \"assistant\", \"content\": \"我叫chatGLM\"},\n",
    "        {\"role\": \"user\", \"content\": \"你都可以做些什么事\"}\n",
    "    ],\n",
    ")\n",
    "print(response.choices[0].message)"
   ]
  },
  {
   "cell_type": "code",
   "execution_count": 17,
   "id": "3a27c777-9583-44e3-b802-f8f2205a2fd1",
   "metadata": {},
   "outputs": [
    {
     "name": "stdout",
     "output_type": "stream",
     "text": [
      "content='我是一个' role='assistant' tool_calls=None\n",
      "content='人工智能' role='assistant' tool_calls=None\n",
      "content='助手' role='assistant' tool_calls=None\n",
      "content='，' role='assistant' tool_calls=None\n",
      "content='你可以' role='assistant' tool_calls=None\n",
      "content='称呼' role='assistant' tool_calls=None\n",
      "content='我为' role='assistant' tool_calls=None\n",
      "content='Chat' role='assistant' tool_calls=None\n",
      "content='GL' role='assistant' tool_calls=None\n",
      "content='M' role='assistant' tool_calls=None\n",
      "content='。' role='assistant' tool_calls=None\n",
      "content='我是' role='assistant' tool_calls=None\n",
      "content='基于' role='assistant' tool_calls=None\n",
      "content='清华大学' role='assistant' tool_calls=None\n",
      "content=' K' role='assistant' tool_calls=None\n",
      "content='EG' role='assistant' tool_calls=None\n",
      "content=' 实' role='assistant' tool_calls=None\n",
      "content='验' role='assistant' tool_calls=None\n",
      "content='室' role='assistant' tool_calls=None\n",
      "content='和' role='assistant' tool_calls=None\n",
      "content='智' role='assistant' tool_calls=None\n",
      "content='谱' role='assistant' tool_calls=None\n",
      "content=' AI' role='assistant' tool_calls=None\n",
      "content=' 公司' role='assistant' tool_calls=None\n",
      "content='于' role='assistant' tool_calls=None\n",
      "content='202' role='assistant' tool_calls=None\n",
      "content='3' role='assistant' tool_calls=None\n",
      "content='共同' role='assistant' tool_calls=None\n",
      "content='训练' role='assistant' tool_calls=None\n",
      "content='的语言' role='assistant' tool_calls=None\n",
      "content='模型' role='assistant' tool_calls=None\n",
      "content='GL' role='assistant' tool_calls=None\n",
      "content='M' role='assistant' tool_calls=None\n",
      "content='-' role='assistant' tool_calls=None\n",
      "content='130' role='assistant' tool_calls=None\n",
      "content='B' role='assistant' tool_calls=None\n",
      "content='开发的' role='assistant' tool_calls=None\n",
      "content='，' role='assistant' tool_calls=None\n",
      "content='我的' role='assistant' tool_calls=None\n",
      "content='任务是' role='assistant' tool_calls=None\n",
      "content='针对' role='assistant' tool_calls=None\n",
      "content='用户' role='assistant' tool_calls=None\n",
      "content='的问题' role='assistant' tool_calls=None\n",
      "content='和要求' role='assistant' tool_calls=None\n",
      "content='提供' role='assistant' tool_calls=None\n",
      "content='适当的' role='assistant' tool_calls=None\n",
      "content='答复' role='assistant' tool_calls=None\n",
      "content='和支持' role='assistant' tool_calls=None\n",
      "content='。' role='assistant' tool_calls=None\n",
      "content='很高兴' role='assistant' tool_calls=None\n",
      "content='遇见' role='assistant' tool_calls=None\n",
      "content='你' role='assistant' tool_calls=None\n",
      "content='，' role='assistant' tool_calls=None\n",
      "content='智' role='assistant' tool_calls=None\n",
      "content='谱' role='assistant' tool_calls=None\n",
      "content='清' role='assistant' tool_calls=None\n",
      "content='言' role='assistant' tool_calls=None\n",
      "content='！' role='assistant' tool_calls=None\n",
      "content='' role='assistant' tool_calls=None\n"
     ]
    }
   ],
   "source": [
    "response = client.chat.completions.create(\n",
    "    model=\"glm-4\",\n",
    "    messages=[\n",
    "        {\"role\": \"system\", \"content\": \"你是一个人工智能助手，你叫叫chatGLM\"},\n",
    "        {\"role\": \"user\", \"content\": \"你好\"},\n",
    "        {\"role\": \"assistant\", \"content\": \"我是人工智能助手\"},\n",
    "        {\"role\": \"user\", \"content\": \"你叫什么名字\"},\n",
    "    ],\n",
    "    stream=True,\n",
    ")\n",
    "for chunk in response:\n",
    "    print(chunk.choices[0].delta)"
   ]
  },
  {
   "cell_type": "code",
   "execution_count": null,
   "id": "5fe8ad1b-9574-40cb-a374-106cb1be83c3",
   "metadata": {},
   "outputs": [],
   "source": []
  }
 ],
 "metadata": {
  "kernelspec": {
   "display_name": "zhipu_sdk_kernel",
   "language": "python",
   "name": "zhipu_sdk_kernel"
  },
  "language_info": {
   "codemirror_mode": {
    "name": "ipython",
    "version": 3
   },
   "file_extension": ".py",
   "mimetype": "text/x-python",
   "name": "python",
   "nbconvert_exporter": "python",
   "pygments_lexer": "ipython3",
   "version": "3.9.18"
  }
 },
 "nbformat": 4,
 "nbformat_minor": 5
}
