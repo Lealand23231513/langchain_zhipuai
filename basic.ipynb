{
 "cells": [
  {
   "cell_type": "code",
   "execution_count": 1,
   "metadata": {},
   "outputs": [
    {
     "data": {
      "text/plain": [
       "True"
      ]
     },
     "execution_count": 1,
     "metadata": {},
     "output_type": "execute_result"
    }
   ],
   "source": [
    "import os\n",
    "from dotenv import load_dotenv, find_dotenv\n",
    "load_dotenv(find_dotenv(), override=True)"
   ]
  },
  {
   "cell_type": "markdown",
   "metadata": {},
   "source": [
    "# Basic Usage"
   ]
  },
  {
   "cell_type": "code",
   "execution_count": 2,
   "metadata": {},
   "outputs": [],
   "source": [
    "from zhipuai_pydantic_v1 import ChatZhipuAI\n",
    "llm = ChatZhipuAI()"
   ]
  },
  {
   "cell_type": "code",
   "execution_count": 3,
   "metadata": {},
   "outputs": [
    {
     "data": {
      "text/plain": [
       "AIMessage(content='你好👋！我是人工智能助手智谱清言（ChatGLM），很高兴见到你，欢迎问我任何问题。')"
      ]
     },
     "execution_count": 3,
     "metadata": {},
     "output_type": "execute_result"
    }
   ],
   "source": [
    "llm.invoke(\"hi\")"
   ]
  },
  {
   "cell_type": "code",
   "execution_count": 4,
   "metadata": {},
   "outputs": [
    {
     "name": "stdout",
     "output_type": "stream",
     "text": [
      "content='Hello'\n",
      "content=' '\n",
      "content='👋!'\n",
      "content=' I'\n",
      "content=\"'\"\n",
      "content='m'\n",
      "content=' Chat'\n",
      "content='GL'\n",
      "content='M'\n",
      "content='（'\n",
      "content='智'\n",
      "content='谱'\n",
      "content='清'\n",
      "content='言'\n",
      "content='）,'\n",
      "content=' the'\n",
      "content=' artificial'\n",
      "content=' intelligence'\n",
      "content=' assistant'\n",
      "content=','\n",
      "content=' nice'\n",
      "content=' to'\n",
      "content=' meet'\n",
      "content=' you'\n",
      "content='.'\n",
      "content=' Feel'\n",
      "content=' free'\n",
      "content=' to'\n",
      "content=' ask'\n",
      "content=' me'\n",
      "content=' any'\n",
      "content=' questions'\n",
      "content='.'\n",
      "content=''\n"
     ]
    }
   ],
   "source": [
    "for s in llm.stream(\"hi\"):\n",
    "  print(s)"
   ]
  },
  {
   "cell_type": "code",
   "execution_count": 5,
   "metadata": {},
   "outputs": [
    {
     "name": "stdout",
     "output_type": "stream",
     "text": [
      "content='你好'\n",
      "content='👋！'\n",
      "content='我是'\n",
      "content='人工智能'\n",
      "content='助手'\n",
      "content='智'\n",
      "content='谱'\n",
      "content='清'\n",
      "content='言'\n",
      "content='（'\n",
      "content='C'\n",
      "content='hat'\n",
      "content='GL'\n",
      "content='M'\n",
      "content='），'\n",
      "content='很高兴'\n",
      "content='见到'\n",
      "content='你'\n",
      "content='，'\n",
      "content='欢迎'\n",
      "content='问我'\n",
      "content='任何'\n",
      "content='问题'\n",
      "content='。'\n",
      "content=''\n"
     ]
    }
   ],
   "source": [
    "async for s in llm.astream(\"hi\"):\n",
    "  print(s)"
   ]
  },
  {
   "cell_type": "code",
   "execution_count": null,
   "metadata": {},
   "outputs": [],
   "source": []
  }
 ],
 "metadata": {
  "kernelspec": {
   "display_name": "zhipu_sdk_kernel",
   "language": "python",
   "name": "zhipu_sdk_kernel"
  },
  "language_info": {
   "codemirror_mode": {
    "name": "ipython",
    "version": 3
   },
   "file_extension": ".py",
   "mimetype": "text/x-python",
   "name": "python",
   "nbconvert_exporter": "python",
   "pygments_lexer": "ipython3",
   "version": "3.9.18"
  }
 },
 "nbformat": 4,
 "nbformat_minor": 2
}
