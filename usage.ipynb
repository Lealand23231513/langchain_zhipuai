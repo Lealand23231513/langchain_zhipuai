{
 "cells": [
  {
   "cell_type": "code",
   "execution_count": 21,
   "metadata": {},
   "outputs": [
    {
     "data": {
      "text/plain": [
       "True"
      ]
     },
     "execution_count": 21,
     "metadata": {},
     "output_type": "execute_result"
    }
   ],
   "source": [
    "import os\n",
    "from dotenv import load_dotenv, find_dotenv\n",
    "load_dotenv(find_dotenv(), override=True)"
   ]
  },
  {
   "cell_type": "markdown",
   "metadata": {},
   "source": [
    "# Basic Usage"
   ]
  },
  {
   "cell_type": "code",
   "execution_count": 6,
   "metadata": {},
   "outputs": [],
   "source": [
    "from langchain_zhipu import ChatZhipuAI\n",
    "llm = ChatZhipuAI()"
   ]
  },
  {
   "cell_type": "code",
   "execution_count": 7,
   "metadata": {},
   "outputs": [
    {
     "data": {
      "text/plain": [
       "AIMessage(content=\"Hello 👋! I'm ChatGLM（智谱清言）, the artificial intelligence assistant, nice to meet you. Feel free to ask me any questions.\")"
      ]
     },
     "execution_count": 7,
     "metadata": {},
     "output_type": "execute_result"
    }
   ],
   "source": [
    "llm.invoke(\"hi\")"
   ]
  },
  {
   "cell_type": "code",
   "execution_count": 8,
   "metadata": {},
   "outputs": [
    {
     "name": "stdout",
     "output_type": "stream",
     "text": [
      "content='Hello'\n",
      "content=' '\n",
      "content='👋!'\n",
      "content=' I'\n",
      "content=\"'\"\n",
      "content='m'\n",
      "content=' Chat'\n",
      "content='GL'\n",
      "content='M'\n",
      "content='（'\n",
      "content='智'\n",
      "content='谱'\n",
      "content='清'\n",
      "content='言'\n",
      "content='）,'\n",
      "content=' the'\n",
      "content=' artificial'\n",
      "content=' intelligence'\n",
      "content=' assistant'\n",
      "content=','\n",
      "content=' nice'\n",
      "content=' to'\n",
      "content=' meet'\n",
      "content=' you'\n",
      "content='.'\n",
      "content=' Feel'\n",
      "content=' free'\n",
      "content=' to'\n",
      "content=' ask'\n",
      "content=' me'\n",
      "content=' any'\n",
      "content=' questions'\n",
      "content='.'\n",
      "content=''\n"
     ]
    }
   ],
   "source": [
    "for s in llm.stream(\"hi\"):\n",
    "  print(s)"
   ]
  },
  {
   "cell_type": "code",
   "execution_count": 9,
   "metadata": {},
   "outputs": [
    {
     "name": "stdout",
     "output_type": "stream",
     "text": [
      "content='Hello'\n",
      "content=' '\n",
      "content='👋!'\n",
      "content=' I'\n",
      "content=\"'\"\n",
      "content='m'\n",
      "content=' Chat'\n",
      "content='GL'\n",
      "content='M'\n",
      "content='（'\n",
      "content='智'\n",
      "content='谱'\n",
      "content='清'\n",
      "content='言'\n",
      "content='）,'\n",
      "content=' the'\n",
      "content=' artificial'\n",
      "content=' intelligence'\n",
      "content=' assistant'\n",
      "content=','\n",
      "content=' nice'\n",
      "content=' to'\n",
      "content=' meet'\n",
      "content=' you'\n",
      "content='.'\n",
      "content=' Feel'\n",
      "content=' free'\n",
      "content=' to'\n",
      "content=' ask'\n",
      "content=' me'\n",
      "content=' any'\n",
      "content=' questions'\n",
      "content='.'\n",
      "content=''\n"
     ]
    }
   ],
   "source": [
    "async for s in llm.astream(\"hi\"):\n",
    "  print(s)"
   ]
  }
 ],
 "metadata": {
  "kernelspec": {
   "display_name": "langchain-zhipu-Ddey8KS3-py3.9",
   "language": "python",
   "name": "python3"
  },
  "language_info": {
   "codemirror_mode": {
    "name": "ipython",
    "version": 3
   },
   "file_extension": ".py",
   "mimetype": "text/x-python",
   "name": "python",
   "nbconvert_exporter": "python",
   "pygments_lexer": "ipython3",
   "version": "3.9.18"
  }
 },
 "nbformat": 4,
 "nbformat_minor": 2
}
