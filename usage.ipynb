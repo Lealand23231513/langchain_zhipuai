{
 "cells": [
  {
   "cell_type": "code",
   "execution_count": 5,
   "id": "5e3fb5d7-e3eb-4cb4-9c46-d9a28bf1ff41",
   "metadata": {},
   "outputs": [
    {
     "name": "stdout",
     "output_type": "stream",
     "text": [
      "Using version \u001b[39;1m^1.0.1\u001b[39;22m for \u001b[36mpython-dotenv\u001b[39m\n",
      "\n",
      "\u001b[34mUpdating dependencies\u001b[39m\n",
      "\u001b[2K\u001b[34mResolving dependencies...\u001b[39m \u001b[39;2m(0.3s)\u001b[39;22m\n",
      "\n",
      "No dependencies to install or update\n",
      "\n",
      "\u001b[34mWriting lock file\u001b[39m\n"
     ]
    }
   ],
   "source": [
    "!poetry add python_dotenv --group dev"
   ]
  },
  {
   "cell_type": "code",
   "execution_count": 1,
   "id": "79b6469c-b79c-4944-aeab-1a2892fef595",
   "metadata": {},
   "outputs": [
    {
     "data": {
      "text/plain": [
       "True"
      ]
     },
     "execution_count": 1,
     "metadata": {},
     "output_type": "execute_result"
    }
   ],
   "source": [
    "import os\n",
    "from dotenv import load_dotenv, find_dotenv\n",
    "load_dotenv(find_dotenv(), override=True)"
   ]
  },
  {
   "cell_type": "code",
   "execution_count": 3,
   "id": "208b2798-b0ea-4718-8b03-ae14352b7770",
   "metadata": {},
   "outputs": [],
   "source": [
    "from zhipuai_pydantic_v1 import ZhipuAI"
   ]
  },
  {
   "cell_type": "code",
   "execution_count": 4,
   "id": "ade91e9b-7647-415d-8343-01bd8e81ff50",
   "metadata": {},
   "outputs": [],
   "source": [
    "client = ZhipuAI() "
   ]
  },
  {
   "cell_type": "code",
   "execution_count": 4,
   "id": "ea97347e-84f0-4f44-8ad8-7533371c9d32",
   "metadata": {},
   "outputs": [
    {
     "name": "stdout",
     "output_type": "stream",
     "text": [
      "content='当然，这是一个关于程序员的笑话：\\n\\n有一天，一位程序员去面试，面试官问他：“你毕业才两年，这三年工作经验是怎么来的？！” 程序员回答：“加班。”' role='assistant' tool_calls=None\n"
     ]
    }
   ],
   "source": [
    "response = client.chat.completions.create(\n",
    "    model=\"glm-4\",\n",
    "    messages=[\n",
    "        {\"role\": \"user\", \"content\": \"你好\"},\n",
    "        {\"role\": \"assistant\", \"content\": \"我是人工智能助手\"},\n",
    "        {\"role\": \"user\", \"content\": \"你叫什么名字\"},\n",
    "        {\"role\": \"assistant\", \"content\": \"我叫chatGLM\"},\n",
    "        {\"role\": \"user\", \"content\": \"讲一个关于程序员的笑话\"}\n",
    "    ],\n",
    "    seed=42, # 官方接口文档中没有提到这个seed参数，实测也没有任何效果\n",
    ")\n",
    "print(response.choices[0].message)"
   ]
  },
  {
   "cell_type": "code",
   "execution_count": 8,
   "id": "3a27c777-9583-44e3-b802-f8f2205a2fd1",
   "metadata": {},
   "outputs": [
    {
     "name": "stdout",
     "output_type": "stream",
     "text": [
      "content='我是一个' role='assistant' tool_calls=None\n",
      "content='人工智能' role='assistant' tool_calls=None\n",
      "content='助手' role='assistant' tool_calls=None\n",
      "content='，' role='assistant' tool_calls=None\n",
      "content='你可以' role='assistant' tool_calls=None\n",
      "content='称呼' role='assistant' tool_calls=None\n",
      "content='我为' role='assistant' tool_calls=None\n",
      "content='Chat' role='assistant' tool_calls=None\n",
      "content='GL' role='assistant' tool_calls=None\n",
      "content='M' role='assistant' tool_calls=None\n",
      "content='。' role='assistant' tool_calls=None\n",
      "content='我是' role='assistant' tool_calls=None\n",
      "content='基于' role='assistant' tool_calls=None\n",
      "content='清华大学' role='assistant' tool_calls=None\n",
      "content=' K' role='assistant' tool_calls=None\n",
      "content='EG' role='assistant' tool_calls=None\n",
      "content=' 实' role='assistant' tool_calls=None\n",
      "content='验' role='assistant' tool_calls=None\n",
      "content='室' role='assistant' tool_calls=None\n",
      "content='和' role='assistant' tool_calls=None\n",
      "content='智' role='assistant' tool_calls=None\n",
      "content='谱' role='assistant' tool_calls=None\n",
      "content=' AI' role='assistant' tool_calls=None\n",
      "content=' 公司' role='assistant' tool_calls=None\n",
      "content='于' role='assistant' tool_calls=None\n",
      "content='202' role='assistant' tool_calls=None\n",
      "content='3' role='assistant' tool_calls=None\n",
      "content='共同' role='assistant' tool_calls=None\n",
      "content='训练' role='assistant' tool_calls=None\n",
      "content='的语言' role='assistant' tool_calls=None\n",
      "content='模型' role='assistant' tool_calls=None\n",
      "content='GL' role='assistant' tool_calls=None\n",
      "content='M' role='assistant' tool_calls=None\n",
      "content='-' role='assistant' tool_calls=None\n",
      "content='130' role='assistant' tool_calls=None\n",
      "content='B' role='assistant' tool_calls=None\n",
      "content='开发的' role='assistant' tool_calls=None\n",
      "content='，' role='assistant' tool_calls=None\n",
      "content='旨在' role='assistant' tool_calls=None\n",
      "content='为' role='assistant' tool_calls=None\n",
      "content='用户提供' role='assistant' tool_calls=None\n",
      "content='问题' role='assistant' tool_calls=None\n",
      "content='解答' role='assistant' tool_calls=None\n",
      "content='和' role='assistant' tool_calls=None\n",
      "content='帮助' role='assistant' tool_calls=None\n",
      "content='。' role='assistant' tool_calls=None\n",
      "content='很高兴' role='assistant' tool_calls=None\n",
      "content='遇见' role='assistant' tool_calls=None\n",
      "content='你' role='assistant' tool_calls=None\n",
      "content='，' role='assistant' tool_calls=None\n",
      "content='智' role='assistant' tool_calls=None\n",
      "content='谱' role='assistant' tool_calls=None\n",
      "content='清' role='assistant' tool_calls=None\n",
      "content='言' role='assistant' tool_calls=None\n",
      "content='！' role='assistant' tool_calls=None\n",
      "content='' role='assistant' tool_calls=None\n"
     ]
    }
   ],
   "source": [
    "response = client.chat.completions.create(\n",
    "    model=\"glm-4\",    \n",
    "    messages=[\n",
    "        {\"role\": \"system\", \"content\": \"你是一个人工智能助手，你叫叫chatGLM\"},\n",
    "        {\"role\": \"user\", \"content\": \"你好\"},\n",
    "        {\"role\": \"assistant\", \"content\": \"我是人工智能助手\"},\n",
    "        {\"role\": \"user\", \"content\": \"讲一个关于程序员的笑话\"},\n",
    "    ],\n",
    "    stream=True,\n",
    ")\n",
    "for chunk in response:\n",
    "    print(chunk.choices[0].delta)"
   ]
  },
  {
   "cell_type": "code",
   "execution_count": 4,
   "id": "5fe8ad1b-9574-40cb-a374-106cb1be83c3",
   "metadata": {},
   "outputs": [
    {
     "ename": "TypeError",
     "evalue": "__init__() got an unexpected keyword argument 'seed'",
     "output_type": "error",
     "traceback": [
      "\u001b[0;31m---------------------------------------------------------------------------\u001b[0m",
      "\u001b[0;31mTypeError\u001b[0m                                 Traceback (most recent call last)",
      "Cell \u001b[0;32mIn[4], line 1\u001b[0m\n\u001b[0;32m----> 1\u001b[0m client \u001b[38;5;241m=\u001b[39m \u001b[43mZhipuAI\u001b[49m\u001b[43m(\u001b[49m\u001b[43mseed\u001b[49m\u001b[38;5;241;43m=\u001b[39;49m\u001b[38;5;241;43m42\u001b[39;49m\u001b[43m)\u001b[49m \n",
      "\u001b[0;31mTypeError\u001b[0m: __init__() got an unexpected keyword argument 'seed'"
     ]
    }
   ],
   "source": [
    "client = ZhipuAI(seed=42) "
   ]
  },
  {
   "cell_type": "code",
   "execution_count": null,
   "id": "67b0537c",
   "metadata": {},
   "outputs": [],
   "source": []
  }
 ],
 "metadata": {
  "kernelspec": {
   "display_name": "zhipu_sdk_kernel",
   "language": "python",
   "name": "zhipu_sdk_kernel"
  },
  "language_info": {
   "codemirror_mode": {
    "name": "ipython",
    "version": 3
   },
   "file_extension": ".py",
   "mimetype": "text/x-python",
   "name": "python",
   "nbconvert_exporter": "python",
   "pygments_lexer": "ipython3",
   "version": "3.9.18"
  }
 },
 "nbformat": 4,
 "nbformat_minor": 5
}
